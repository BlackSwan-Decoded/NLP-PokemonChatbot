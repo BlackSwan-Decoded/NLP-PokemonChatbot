{
 "cells": [
  {
   "cell_type": "markdown",
   "metadata": {},
   "source": [
    "# Pokemon Chatbot using NLTK\n",
    "---"
   ]
  },
  {
   "cell_type": "markdown",
   "metadata": {},
   "source": [
    "My goal for this project is to create a very simple chatbot that uses NLTK and the PyPokedex libraries to give the user information about a requested pokemon.\n",
    "The name of the bot is **PokeBot**. It is a rule/keyword based chatbot with limited conversation about Pokemon.\n",
    "\n",
    "### PokeBot Can:\n",
    "-[x] Greet the user\n",
    "-[x] Respond to thank you messages\n",
    "-[x] Close if the user says goodbye\n",
    "-[x] Provide information about a pokemon such as:\n",
    "> ###### Name \n",
    "\n",
    "> ###### Type\n",
    "\n",
    "> ###### Height\n",
    "\n",
    "> ###### Weight\n",
    "\n",
    "> ###### Base Experience\n",
    "\n",
    "> ###### Abilities\n",
    "\n",
    "> ###### Basic Stats\n",
    "\n",
    "---\n"
   ]
  },
  {
   "cell_type": "markdown",
   "metadata": {},
   "source": [
    "# Action Plan\n",
    "---"
   ]
  },
  {
   "cell_type": "markdown",
   "metadata": {},
   "source": [
    "### HOW I CREATED THE BOT\n"
   ]
  },
  {
   "cell_type": "markdown",
   "metadata": {},
   "source": [
    "##### Download and Install Packages"
   ]
  },
  {
   "cell_type": "code",
   "execution_count": null,
   "metadata": {},
   "outputs": [],
   "source": [
    "%pip install nltk\n",
    "%pip install pandas\n",
    "%pip install pypokedex"
   ]
  },
  {
   "cell_type": "markdown",
   "metadata": {},
   "source": [
    "#### Create the Rules for the Chatbot from this .json File."
   ]
  },
  {
   "cell_type": "markdown",
   "metadata": {},
   "source": [
    "```json\n",
    "{\n",
    "    \"utterance_response\": [\n",
    "        {\n",
    "            \"tag\": \"greeting\",\n",
    "            \"patterns\": [\n",
    "                \"Hi\",\n",
    "                \"Hey\",\n",
    "                \"Hello\",\n",
    "                \"Hey there\",\n",
    "                \"Howdy\",\n",
    "                \"Sup\",\n",
    "                \"Wassup\",\n",
    "                \"What's up\",\n",
    "                \"What's good\"\n",
    "            ],\n",
    "            \"responses\": [\n",
    "                \"Hey there!\",\n",
    "                \"Hi!\",\n",
    "                \"Hello!\",\n",
    "                \"Hello, thanks for stopping by\"\n",
    "            ]\n",
    "        },\n",
    "        {\n",
    "            \"tag\": \"goodbye\",\n",
    "            \"patterns\": [\n",
    "                \"Bye\",\n",
    "                \"Goodbye\",\n",
    "                \"See you later\",\n",
    "                \"See you\",\n",
    "                \"See ya\",\n",
    "                \"Catch ya\",\n",
    "                \"Catch you later\",\n",
    "                \"Quit\",\n",
    "                \"Quit talking\",\n",
    "                \"Quit talking to me\"\n",
    "            ],\n",
    "            \"responses\": [\n",
    "                \"Bye!\",\n",
    "                \"Goodbye!\",\n",
    "                \"See you later!\",\n",
    "                \"Bye take care. See you soon :) \",\n",
    "                \"It was nice talking to you. See you soon :)\"\n",
    "            ]\n",
    "        },\n",
    "        {\n",
    "            \"tag\": \"thanks\",\n",
    "            \"patterns\": [\n",
    "                \"Thanks\",\n",
    "                \"Thank you\",\n",
    "                \"Thank you so much\",\n",
    "                \"That's very kind of you\",\n",
    "                \"That's helpful\",\n",
    "                \"That's very helpful\"\n",
    "            ],\n",
    "            \"responses\": [\n",
    "                \"You're welcome!\",\n",
    "                \"No problem!\",\n",
    "                \"You're welcome!\",\n",
    "                \"Any time!\",\n",
    "                \"My pleasure!\"\n",
    "            ]\n",
    "        },\n",
    "        {\n",
    "            \"tag\": \"name\",\n",
    "            \"patterns\": [\n",
    "                \"My name is\",\n",
    "                \"I am\",\n",
    "                \"I'm\",\n",
    "                \"I am called\",\n",
    "                \"I'm called\"\n",
    "            ],\n",
    "            \"responses\": [\n",
    "                \"Nice to meet you\",\n",
    "                \"Hi\"\n",
    "            ],\n",
    "            \"context_set\": \"name\"\n",
    "        },\n",
    "        {\n",
    "            \"tag\": \"pokemon\",\n",
    "            \"patterns\": [\n",
    "                \"which pokemon is \",\n",
    "                \"what is \",\n",
    "                \"tell me about \",\n",
    "                \"i want to know about \",\n",
    "                \"i want to know more about \"\n",
    "            ],\n",
    "            \"responses\": [\n",
    "                \"Here's what I know\",\n",
    "                \"Alright, here's what I know\",\n",
    "                \"Sure\",\n",
    "                \"No problem! Let me get that for you\"\n",
    "            ],\n",
    "            \"context_set\": \"pokemon\"\n",
    "        }\n",
    "    ]\n",
    "}\n",
    "\n",
    "```"
   ]
  },
  {
   "cell_type": "markdown",
   "metadata": {},
   "source": [
    "#### Save Rules in a Useable Format"
   ]
  },
  {
   "cell_type": "code",
   "execution_count": 51,
   "metadata": {},
   "outputs": [],
   "source": [
    "import json\n",
    "import re\n",
    "import pickle as pkl\n",
    "from preprocess import normalize"
   ]
  },
  {
   "cell_type": "code",
   "execution_count": 52,
   "metadata": {},
   "outputs": [],
   "source": [
    "# load the json file\n",
    "with open('utterance_response.json') as file:\n",
    "    data = json.load(file)\n",
    "\n",
    "# function used to create rules data structure\n",
    "def save():\n",
    "    intents = {}\n",
    "    keywords_dict = {}\n",
    "    responses_dict = {}\n",
    "\n",
    "    for intent in data['utterance_response']:\n",
    "        # save the intent tag, which is either 'greeting' or 'goodbye' or 'thanks' or 'name' or 'pokemon'\n",
    "        tag = intent['tag'] \n",
    "        intents[tag] = []\n",
    "        # build the dictionary of responses for each intent\n",
    "        responses_dict[tag] = intent['responses']\n",
    "        # normalize the patterns associated with each intent\n",
    "        for pattern in intent['patterns']:\n",
    "            # use regex to format the patterns so they can be found with regex search later\n",
    "            pattern = [f'.*\\\\b{pat}\\\\b.*' for pat in normalize(pattern)]\n",
    "            intents[tag].extend([pat for pat in pattern if pat not in intents[tag]])\n",
    "    #build the dictonary of intents for each pattern\n",
    "    for intent, keys in intents.items():\n",
    "        keywords_dict[intent] = re.compile('|'.join(keys))\n",
    "\n",
    "    # save dictionary of patterns and responses in 2 separate pickle files\n",
    "    utterance_patterns = open(\"C:/Users/Swan/Documents/Advanced_Natural_Language_Processing/ClassProject/utterance_patterns.pkl\", \"wb\")\n",
    "    response_patterns = open(\"C:/Users/Swan/Documents/Advanced_Natural_Language_Processing/ClassProject/response_patterns.pkl\", \"wb\")\n",
    "    pkl.dump(keywords_dict, utterance_patterns)\n",
    "    pkl.dump(responses_dict, response_patterns)"
   ]
  },
  {
   "cell_type": "markdown",
   "metadata": {},
   "source": [
    "### POKEBOT ALGORITHM"
   ]
  },
  {
   "cell_type": "code",
   "execution_count": 53,
   "metadata": {},
   "outputs": [],
   "source": [
    "import random\n",
    "import pandas as pd\n",
    "import pickle as pkl\n",
    "import pypokedex as pdx"
   ]
  },
  {
   "cell_type": "markdown",
   "metadata": {},
   "source": [
    "#### Get Utterance and Response Dictionaries that were Previously Created"
   ]
  },
  {
   "cell_type": "code",
   "execution_count": 54,
   "metadata": {},
   "outputs": [],
   "source": [
    "# Load data intents data\n",
    "with open('C:/Users/Swan/Documents/Advanced_Natural_Language_Processing/ClassProject/utterance_patterns.pkl', 'rb') as utt_pkl:\n",
    "    utterances = pkl.load(utt_pkl)\n",
    "with open('C:/Users/Swan/Documents/Advanced_Natural_Language_Processing/ClassProject/response_patterns.pkl', 'rb') as resp_pkl:\n",
    "    responses = pkl.load(resp_pkl)"
   ]
  },
  {
   "cell_type": "code",
   "execution_count": 55,
   "metadata": {},
   "outputs": [],
   "source": [
    "# Get pokemon names from csv file found at https://gist.github.com/armgilles/194bcff35001e7eb53a2a8b441e8b2c6\n",
    "pokemon_df = pd.read_csv('pokemon.csv')\n",
    "pokemon_names = [name.lower() for name in pokemon_df['NAME']]\n",
    "\n",
    "# name of bot\n",
    "bot_name = \"PokeBot\""
   ]
  },
  {
   "cell_type": "markdown",
   "metadata": {},
   "source": [
    "#### Use PyPokeDex to Obtain Pokemon Information"
   ]
  },
  {
   "cell_type": "code",
   "execution_count": 56,
   "metadata": {},
   "outputs": [],
   "source": [
    "def get_pokemon(pokemon_name):\n",
    "    try:\n",
    "        pokemon = pdx.get(name=pokemon_name)\n",
    "        response = f\"Meet {pokemon.name.title()}!\" \\\n",
    "                   f\"\\n{pokemon.name.title()} has these attributes:\" \\\n",
    "                   f\"\\nType: {pokemon.types[0].title()}!\" \\\n",
    "                   f\"\\nHeight: {pokemon.height}!\" \\\n",
    "                   f\"\\nWeight is {pokemon.weight}!\" \\\n",
    "                   f\"\\nBase Experience is {pokemon.base_experience}!\" \\\n",
    "                   f\"\\nAbilities are {pokemon.abilities[0].name, pokemon.abilities[1].name}!\" \\\n",
    "                   f\"\\nStats are hp={pokemon.base_stats[0]}, attack={pokemon.base_stats[1]}, defense\" \\\n",
    "                   f\"={pokemon.base_stats[2]}, sp_atk={pokemon.base_stats[3]}, sp_def={pokemon.base_stats[4]},\" \\\n",
    "                   f\"speed={pokemon.base_stats[5]}\"\n",
    "    except:\n",
    "        response = \"\\tSorry, I don't know that Pokemon.\"\n",
    "    return response\n"
   ]
  },
  {
   "cell_type": "markdown",
   "metadata": {},
   "source": [
    "#### Get User Input and Return Appropriate Response"
   ]
  },
  {
   "cell_type": "code",
   "execution_count": 69,
   "metadata": {},
   "outputs": [],
   "source": [
    "def get_response(user_input):\n",
    "    \"\"\"This function takes in a user's input, normalizes it, identifies the user's intent and returns a response\"\"\"\n",
    "    pokemon_name = \"\"\n",
    "    user_input = normalize(user_input)\n",
    "    matched_intent = None\n",
    "\n",
    "    for intent, pattern in utterances.items():\n",
    "        for word in user_input:\n",
    "            # if the word matches a pattern in the dictionary, set the matched_intent to the intent\n",
    "            if re.search(pattern, word):\n",
    "                matched_intent = intent\n",
    "                break\n",
    "\n",
    "    # if the matched_intent is None, then the user's input was not recognized as an intent and may be a pokemon name\n",
    "    if (matched_intent is None) or (matched_intent == 'pokemon'):\n",
    "        for word in user_input:\n",
    "            # if the word is a pokemon name/id, set the pokemon_name to the word and set the matched_intent to pokemon\n",
    "            if word in pokemon_names or word.isnumeric():\n",
    "                pokemon_name = word\n",
    "                matched_intent = 'pokemon'\n",
    "                break\n",
    "\n",
    "    # if the matched_intent is in the dictionary, then the user's input was recognized as an intent\n",
    "    # use the matched_intent to get a response from the dictionary\n",
    "    if matched_intent in responses:\n",
    "        key = matched_intent\n",
    "\n",
    "        # if the matched_intent is good bye, then the bot will exit the conversation\n",
    "        if key == 'goodbye':\n",
    "            exit(random.choice(responses[key]))          \n",
    "\n",
    "        # if the matched_intent is a person's name, then the bot will greet the user\n",
    "        if key == 'name':\n",
    "            return f'{random.choice(responses[key])} {user_input[1].title()}!'\n",
    "        # else if the mathced_intent is pokemon, then the bot will return the pokemon's information\n",
    "        elif key == 'pokemon':\n",
    "            pokemon_details = get_pokemon(pokemon_name)\n",
    "            return f\"{random.choice(responses[key])}\\n{pokemon_details}\"\n",
    "        else:\n",
    "            return random.choice(responses[key])\n",
    "    # if the matched_intent is not in the dictionary, then the user's input was not recognized as an intent\n",
    "    else:\n",
    "        return \"Sorry, I don't understand\""
   ]
  },
  {
   "cell_type": "markdown",
   "metadata": {},
   "source": [
    "#### Repeat Algorithm until Response is to EXIT/QUIT"
   ]
  },
  {
   "cell_type": "code",
   "execution_count": 60,
   "metadata": {},
   "outputs": [],
   "source": [
    "def main():\n",
    "    print(f\"Hi! I'm {bot_name}!\")\n",
    "    print(\"Let's talk about your Pokemon!\")\n",
    "    while True:\n",
    "        user_input = input(\"\\nYou: \")\n",
    "        response = get_response(user_input)\n",
    "        print(f\"\\n{bot_name}: {response}\")"
   ]
  },
  {
   "cell_type": "markdown",
   "metadata": {},
   "source": [
    "### ALGORITHM USED TO NORMALIZE INPUT\n"
   ]
  },
  {
   "cell_type": "markdown",
   "metadata": {},
   "source": [
    "**Replace Contractions**\n",
    "```py\n",
    "    # replace contractions with full words\n",
    "    expand_contractions(sentence).lower()\n",
    "```"
   ]
  },
  {
   "cell_type": "markdown",
   "metadata": {},
   "source": [
    "\n",
    "**Remove Non-Ascii Characters**\n",
    "\n",
    "```py\n",
    "    # remove non-ascii characters\n",
    "    sentence = unicodedata.normalize('NFKD', sentence).encode('ascii', 'ignore').decode('utf-8', 'ignore')\n",
    "```"
   ]
  },
  {
   "cell_type": "markdown",
   "metadata": {},
   "source": [
    "**Remove Punctuations**\n",
    "```py\n",
    "    # remove punctuation\n",
    "    re.sub(r'[^\\w\\s]', '', sentence)\n",
    "```"
   ]
  },
  {
   "cell_type": "markdown",
   "metadata": {},
   "source": [
    "**Tokenize**\n",
    "```py\n",
    "    # tokenize into words\n",
    "    nltk.word_tokenize(sentence)\n",
    "```"
   ]
  },
  {
   "cell_type": "markdown",
   "metadata": {},
   "source": [
    "**Remove StopWords**\n",
    "```py\n",
    "    #remove stopwords\n",
    "    [word for word in sentence if word not in nltk.corpus.stopwords.words('english')]\n",
    "```"
   ]
  },
  {
   "cell_type": "markdown",
   "metadata": {},
   "source": [
    "**Lemmatize**\n",
    "```py\n",
    "    #lemmatize\n",
    "    [nltk.stem.WordNetLemmatizer().lemmatize(word) for word in sentence]\n",
    "```"
   ]
  },
  {
   "cell_type": "markdown",
   "metadata": {},
   "source": [
    "**Stemming**\n",
    "```py\n",
    "    #stemm\n",
    "    [nltk.stem.PorterStemmer().stem(word) for word in sentence]\n",
    "```"
   ]
  },
  {
   "cell_type": "markdown",
   "metadata": {},
   "source": [
    "**Remove Single Characters that are NOT numerical**\n",
    "```py\n",
    "    # remove single characters if any were missed\n",
    "    # keep numerical values because they can be used to find a pokemon\n",
    "    [word for word in sentence if (len(word) > 1 or word.isnumeric())]\n",
    "```"
   ]
  },
  {
   "cell_type": "markdown",
   "metadata": {},
   "source": [
    "**_Next the word is returned_**"
   ]
  },
  {
   "cell_type": "markdown",
   "metadata": {},
   "source": [
    "### User Interface\n",
    "---\n",
    "\n",
    "For the user interface of this bot. I decided to use Python's TKinter Library."
   ]
  },
  {
   "cell_type": "code",
   "execution_count": null,
   "metadata": {},
   "outputs": [],
   "source": [
    "import tkinter as tk\n",
    "\n",
    "\n",
    "\"\"\"UI for the PokeBot credits to Python Engineer @ https://www.youtube.com/watch?v=RNEcewpVZUQ\"\"\"\n",
    "BG_GRAY_COLOR = '#37796C'\n",
    "BG_COLOR = '#0C3348'\n",
    "SEND_BUTTON_COLOR = '#E54222'\n",
    "TEXT_COLOR = '#EAECEE'\n",
    "FONT = \"Helvetica 10\"\n",
    "FONT_BOLD = \"Arial 14 bold\"\n",
    "\n",
    "\n",
    "class PokeBot(tk.Tk):\n",
    "    def __init__(self):\n",
    "        self.window = tk.Tk()\n",
    "        self._setup_main_window()\n",
    "\n",
    "    def _setup_main_window(self):\n",
    "        self.window.title(\"Chat with PokeBot\")\n",
    "        self.window.resizable(False, False)\n",
    "        self.window.configure(width=570, height=650, bg=BG_GRAY_COLOR)\n",
    "        self.window.config(padx=10, pady=10)\n",
    "\n",
    "        # TITLE\n",
    "        title_label = tk.Label(self.window, bg=BG_COLOR, fg=TEXT_COLOR, text=\"PokeBot\",\n",
    "                               font=FONT_BOLD, padx=10, pady=10)\n",
    "        title_label.place(relwidth=1, relheight=0.1)\n",
    "\n",
    "        # DIVIDER\n",
    "        divider = tk.Label(self.window, width=450, bg=BG_GRAY_COLOR, height=2)\n",
    "        divider.place(relwidth=1, relheight=0.01, relx=0, rely=0.07)\n",
    "\n",
    "        # TEXT INPUT\n",
    "        self.text_widget = tk.Text(self.window, bg=BG_COLOR, fg=TEXT_COLOR, font=FONT,\n",
    "                                   height=2, width=20, padx=5, pady=5)\n",
    "        self.text_widget.place(relwidth=1, relheight=0.745, relx=0, rely=0.08)\n",
    "        self.text_widget.configure(cursor=\"arrow\", state=tk.DISABLED)\n",
    "\n",
    "        # SCROLLBAR\n",
    "        scrollbar = tk.Scrollbar(self.text_widget)\n",
    "        scrollbar.place(relheight=1, relx=0.974)\n",
    "        scrollbar.configure(command=self.text_widget.yview)\n",
    "\n",
    "        # BOTTOM LABEL\n",
    "        bottom_label = tk.Label(self.window, bg=BG_GRAY_COLOR, height=80)\n",
    "        bottom_label.place(relwidth=1, rely=0.825)\n",
    "\n",
    "        # MESSAGE BOX\n",
    "        self.msg_entry = tk.Entry(bottom_label, bg=\"#2C3E50\", fg=TEXT_COLOR, font=FONT)\n",
    "        self.msg_entry.place(relwidth=0.74, relheight=0.06, rely=0.008, relx=0.011)\n",
    "        self.msg_entry.focus()\n",
    "        self.msg_entry.bind(\"<Return>\", self._on_enter)\n",
    "\n",
    "        # SEND BUTTON\n",
    "        send_button = tk.Button(bottom_label, text=\"Send\", bg=SEND_BUTTON_COLOR, fg=TEXT_COLOR, font=FONT_BOLD,\n",
    "                                width=20, command=lambda: self._on_enter(self.msg_entry.get()))\n",
    "        send_button.place(relwidth=0.22, relheight=0.06, rely=0.008, relx=0.77)\n",
    "\n",
    "\n",
    "    # EVENT HANDLERS\n",
    "    # fires when the enter key is pressed\n",
    "    def _on_enter(self, event):\n",
    "        msg = self.msg_entry.get()\n",
    "        self._insert_message(msg, \"You: \")\n",
    "\n",
    "    # inserts a message into the text widget\n",
    "    # happens when the _on_enter event fires\n",
    "    def _insert_message(self, msg, sender):\n",
    "        if not msg:\n",
    "            return\n",
    "\n",
    "        self.msg_entry.delete(0, tk.END)\n",
    "        msg1 = f\"{sender}: {msg}\\n\\n\"\n",
    "        self.text_widget.configure(state=tk.NORMAL)\n",
    "        self.text_widget.insert(tk.END, msg1)\n",
    "        self.text_widget.configure(state=tk.DISABLED)\n",
    "\n",
    "        msg2 = f\"{bot_name}: {get_response(msg)}\\n\\n\"\n",
    "        self.text_widget.configure(state=tk.NORMAL)\n",
    "        self.text_widget.insert(tk.END, msg2)\n",
    "        self.text_widget.configure(state=tk.DISABLED)\n",
    "\n",
    "        self.text_widget.see(tk.END)\n",
    "\n",
    "    def run(self):\n",
    "        self.window.mainloop()"
   ]
  },
  {
   "cell_type": "markdown",
   "metadata": {},
   "source": [
    "# Code in Action\n",
    "___"
   ]
  },
  {
   "cell_type": "code",
   "execution_count": 78,
   "metadata": {},
   "outputs": [],
   "source": [
    "if __name__ == \"__main__\":\n",
    "    bot = PokeBot()\n",
    "    bot.run()"
   ]
  }
 ],
 "metadata": {
  "interpreter": {
   "hash": "5689bc9f4706fad062225a5da30ef9d81b53bdd704e1eb813d5b89f62db85312"
  },
  "kernelspec": {
   "display_name": "Python 3.9.7 64-bit (system)",
   "language": "python",
   "name": "python3"
  },
  "language_info": {
   "codemirror_mode": {
    "name": "ipython",
    "version": 3
   },
   "file_extension": ".py",
   "mimetype": "text/x-python",
   "name": "python",
   "nbconvert_exporter": "python",
   "pygments_lexer": "ipython3",
   "version": "3.9.7"
  },
  "orig_nbformat": 4
 },
 "nbformat": 4,
 "nbformat_minor": 2
}
